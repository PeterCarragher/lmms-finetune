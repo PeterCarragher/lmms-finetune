{
 "cells": [
  {
   "cell_type": "code",
   "execution_count": null,
   "metadata": {},
   "outputs": [
    {
     "name": "stderr",
     "output_type": "stream",
     "text": [
      "/home/nikithar/Code/VQA/lmms-finetune/lmms-finetune/lib/python3.10/site-packages/tqdm/auto.py:21: TqdmWarning: IProgress not found. Please update jupyter and ipywidgets. See https://ipywidgets.readthedocs.io/en/stable/user_install.html\n",
      "  from .autonotebook import tqdm as notebook_tqdm\n"
     ]
    },
    {
     "name": "stdout",
     "output_type": "stream",
     "text": [
      "Question: \"What is the color of the inner shirt worn by Vincent van Gogh in his Self-Portrait done in 1887?\"\n",
      "Answer: <RET> Sorry, there is conflicting information. <RET>\n",
      "Question: \"What color are the CeX shop on North End Road, Fulham, London and The Temple Bar pub in Dublin,Ireland painted?\"\n",
      "Answer: <RET> Sorry, there is conflicting information. <RET>\n",
      "Question: \"Which color is found both in Indian pacers jersey and Australian mens basketball team jersey?\"\n",
      "Answer: <RET> Sorry, there is conflicting information. <RET>\n"
     ]
    }
   ],
   "source": [
    "import json\n",
    "from eval_utils import *\n",
    "from matplotlib import pyplot as plt\n",
    "\n",
    "segsub_sample_data = json.load(open('../data/segsub_data_labelling_sample.json'))\n",
    "webqa_image_directory = \"/data/nikitha/VQA_data/results/old/bad_idx/webqa/\"\n",
    "segsub_directory = \"/data/nikitha/VQA_data/segsub_images/\"\n",
    "\n",
    "for idx in range(len(segsub_sample_data)):\n",
    "    sample = segsub_sample_data[idx]\n",
    "    if 'label' in sample:\n",
    "        continue\n",
    "    question = sample[\"conversations\"][0][\"value\"].split(\"\\nQ: \")[-1]\n",
    "    print(f\"Question: {question}\")\n",
    "    answer = sample[\"conversations\"][1][\"value\"]\n",
    "    print(f\"Answer: {answer}\")\n",
    "    for img_path in sample[\"image\"]:\n",
    "        # if img_path is int\n",
    "        if isinstance(img_path, int):\n",
    "            path = f\"{webqa_image_directory}/{img_path}.jpg\"\n",
    "        else:\n",
    "            path = f\"{segsub_directory}/{img_path}\"\n",
    "        # plt.imshow(plt.imread(path), axis='off')\n",
    "    label = input('Label for sample {}: '.format(sample['id']))\n",
    "    sample['label'] = label\n",
    "    segsub_sample_data[idx] = sample\n",
    "    with open('../data/segsub_data_labelling_sample.json', 'w') as f:\n",
    "        json.dump(segsub_sample_data, f)\n"
   ]
  }
 ],
 "metadata": {
  "kernelspec": {
   "display_name": "lmms-finetune",
   "language": "python",
   "name": "python3"
  },
  "language_info": {
   "codemirror_mode": {
    "name": "ipython",
    "version": 3
   },
   "file_extension": ".py",
   "mimetype": "text/x-python",
   "name": "python",
   "nbconvert_exporter": "python",
   "pygments_lexer": "ipython3",
   "version": "3.10.15"
  }
 },
 "nbformat": 4,
 "nbformat_minor": 2
}
